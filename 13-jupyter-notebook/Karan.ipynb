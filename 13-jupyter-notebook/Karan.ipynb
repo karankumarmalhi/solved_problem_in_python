{
 "cells": [
  {
   "cell_type": "code",
   "execution_count": null,
   "id": "4e1750bd",
   "metadata": {},
   "outputs": [],
   "source": [
    "print(\"Chai aur code!\")"
   ]
  },
  {
   "cell_type": "markdown",
   "id": "39219e84",
   "metadata": {},
   "source": [
    "## Karan Kumar "
   ]
  },
  {
   "cell_type": "markdown",
   "id": "f303f8ec",
   "metadata": {},
   "source": []
  }
 ],
 "metadata": {
  "kernelspec": {
   "display_name": "py310",
   "language": "python",
   "name": "python3"
  },
  "language_info": {
   "codemirror_mode": {
    "name": "ipython",
    "version": 3
   },
   "file_extension": ".py",
   "mimetype": "text/x-python",
   "name": "python",
   "nbconvert_exporter": "python",
   "pygments_lexer": "ipython3",
   "version": "3.10.18"
  }
 },
 "nbformat": 4,
 "nbformat_minor": 5
}
